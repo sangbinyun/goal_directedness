{
 "cells": [
  {
   "cell_type": "markdown",
   "metadata": {},
   "source": [
    "# problem analyzer"
   ]
  },
  {
   "cell_type": "code",
   "execution_count": null,
   "metadata": {},
   "outputs": [],
   "source": [
    "# 1\n",
    "problem_analysis = \"You are an expert problem analyzer and decomposer with access to relevant context.\\n\" \\\n",
    "    \"Your task is to verify, refine, and break down the given problem by following these steps:\\n\" \\\n",
    "    \"0. Think step by step through the entire analysis process\\n\" \\\n",
    "    \"1. Verify the problem:\\n\" \\\n",
    "    \"   - Identify the core objective and constraints\\n\" \\\n",
    "    \"   - Check if the problem is well-defined with clear success criteria\\n\" \\\n",
    "    \"   - Highlight key assumptions and prerequisites\\n\" \\\n",
    "    \"   - Reformulate if needed to make more precise and actionable\\n\" \\\n",
    "    \"2. Decompose the refined problem:\\n\" \\\n",
    "    \"   - Identify the main components that need to be solved\\n\" \\\n",
    "    \"   - Arrange sub-problems in a vertical sequence with dependencies\\n\" \\\n",
    "    \"   - Further decompose sub-problems that require multiple steps\\n\" \\\n",
    "    \"   - Specifying dependencies between sub-problems\\n\" \\\n",
    "    \"   - Keep decomposition compact for single-step problems\\n\" \\\n",
    "    \"3. Consider the provided context:\\n\" \\\n",
    "    \"   - Review any relevant documentation provided\\n\" \\\n",
    "    \"   - Reference specific components or patterns that could be reused\\n\\n\" \\\n",
    "    \"Given problem: {Problem}\\n\" \\\n",
    "    \"Context: {Context}\\n\\n\" \\\n",
    "    \"First provide your analysis and refined problem statement, then give a hierarchical breakdown showing the vertical dependencies between sub-problems.\""
   ]
  },
  {
   "cell_type": "markdown",
   "metadata": {},
   "source": [
    "# subproblem solver"
   ]
  },
  {
   "cell_type": "code",
   "execution_count": null,
   "metadata": {},
   "outputs": [],
   "source": [
    "# 0\n",
    "subproblem_solution = \"You are an expert problem solver focused on solving specific sub-problems with access to relevant context.\\n\" \\\n",
    "    \"Your task is to solve the given sub-problem by:\\n\" \\\n",
    "    \"1. Understanding the specific scope and requirements of this sub-problem\\n\" \\\n",
    "    \"2. Reviewing provided context and existing implementations\\n\" \\\n",
    "    \"3. Applying relevant domain knowledge and techniques\\n\" \\\n",
    "    \"4. Providing a clear and detailed solution\\n\" \\\n",
    "    \"5. Explaining your reasoning process\\n\" \\\n",
    "    \"6. Ensuring the solution aligns with any dependencies or constraints\\n\" \\\n",
    "    \"7. Referencing specific patterns or components from context where applicable\\n\\n\" \\\n",
    "    \"Sub-problems: {SubProblem}\\n\" \\\n",
    "    \"Dependencies: {Dependencies}\\n\" \\\n",
    "    \"Context: {Context}\\n\" \\\n",
    "    \"Provide your detailed solution for this specific sub-problem.\""
   ]
  },
  {
   "cell_type": "code",
   "execution_count": null,
   "metadata": {},
   "outputs": [],
   "source": [
    "# 1\n",
    "subproblem_solution = \"You are an expert problem solver focused on solving specific sub-problems with access to relevant context.\\n\" \\\n",
    "    \"Your task is to solve the given sub-problems by:\\n\" \\\n",
    "    \"0. Think step by step through the entire analysis process\\n\" \\\n",
    "    \"1. Understanding the specific scope and requirements of these sub-problems\\n\" \\\n",
    "    \"2. Reviewing provided context and existing implementations\\n\" \\\n",
    "    \"3. Applying relevant domain knowledge and techniques to develop a clear and detailed solutions.\\n\" \\\n",
    "    \"4. Explaining your reasoning processes clearly and concisely\\n\" \\\n",
    "    \"5. Ensuring the solutions align with any dependencies or constraints\\n\" \\\n",
    "    \"6. Referencing specific patterns, components or documents from context where applicable\\n\\n\" \\\n",
    "    \"Sub-problems: {SubProblem}\\n\" \\\n",
    "    \"Dependencies: {Dependencies}\\n\" \\\n",
    "    \"Context (Documents with Index Numbers)): {Context}\\n\\n\" \\\n",
    "    \"Provide your solutions for the sub-problems in the following format:\\n\" \\\n",
    "    \"1. Solution: Provide detailed solutions for the each sub-problems.\\n\" \\\n",
    "    \"2. Reasoning: Explain your reasoning step-by-step, summarizing how the context informed your solutions.\\n\" \\\n",
    "    \"3. Referenced Documents: List the documents as its number (from the context) that you referred to while solving the sub-problem.\""
   ]
  },
  {
   "cell_type": "code",
   "execution_count": null,
   "metadata": {},
   "outputs": [],
   "source": [
    "# 2\n",
    "subproblem_solution = \"You are an expert problem solver focused on solving specific sub-problems with access to relevant context.\\n\" \\\n",
    "    \"Your task is to solve the given sub-problems by:\\n\" \\\n",
    "    \"0. Think step by step through the entire analysis process\\n\" \\\n",
    "    \"1. Understanding the specific scope and requirements of this sub-problem\\n\" \\\n",
    "    \"2. Reviewing provided context and existing implementations\\n\" \\\n",
    "    \"3. Applying relevant domain knowledge and techniques\\n\" \\\n",
    "    \"4. Providing a clear and detailed solution\\n\" \\\n",
    "    \"5. Explaining your reasoning process\\n\" \\\n",
    "    \"6. Ensuring the solution aligns with any dependencies or constraints\\n\" \\\n",
    "    \"7. Referencing specific patterns or components from context where applicable\\n\\n\" \\\n",
    "    \"Sub-problems: {SubProblem}\\n\" \\\n",
    "    \"Dependencies: {Dependencies}\\n\" \\\n",
    "    \"Context (Documents with Index Numbers)): {Context}\\n\\n\" \\\n",
    "    \"Provide your detailed solution for this specific sub-problem and lists all referred documents as its number.\""
   ]
  },
  {
   "cell_type": "code",
   "execution_count": null,
   "metadata": {},
   "outputs": [],
   "source": [
    "# 3\n",
    "subproblem_solution = \"You are an expert problem solver focused on solving specific sub-problems with access to relevant context.\\n\" \\\n",
    "    \"Your task is to solve the given sub-problems by:\\n\" \\\n",
    "    \"0. Think step by step through the entire analysis process\\n\" \\\n",
    "    \"1. Understanding the specific scope and requirements of these sub-problems\\n\" \\\n",
    "    \"2. Reviewing provided context and existing implementations\\n\" \\\n",
    "    \"3. Applying relevant domain knowledge and techniques\\n\" \\\n",
    "    \"4. Providing a clear and detailed solutions\\n\" \\\n",
    "    \"5. Explaining your reasoning process\\n\" \\\n",
    "    \"6. Ensuring the solutions align with any dependencies or constraints\\n\" \\\n",
    "    \"7. Referencing specific patterns or components from context where applicable\\n\\n\" \\\n",
    "    \"Sub-problems: {SubProblem}\\n\" \\\n",
    "    \"Dependencies: {Dependencies}\\n\" \\\n",
    "    \"Contexts (Documents with Index Numbers)): {Context}\\n\\n\" \\\n",
    "    \"Provide your detailed solutions for each sub-problems and lists all referred documents as its number.\""
   ]
  },
  {
   "cell_type": "markdown",
   "metadata": {},
   "source": [
    "# solution aggregation"
   ]
  },
  {
   "cell_type": "code",
   "execution_count": null,
   "metadata": {},
   "outputs": [],
   "source": [
    "# 0\n",
    "solution_aggregation = \"You are an expert in synthesizing solutions with access to relevant context.\\n\" \\\n",
    "    \"Your task is to aggregate the solutions from all sub-problems by:\\n\" \\\n",
    "    \"1. Reviewing all sub-problem solutions\\n\" \\\n",
    "    \"2. Ensuring consistency across solutions\\n\" \\\n",
    "    \"3. Resolving any conflicts or inconsistencies\\n\" \\\n",
    "    \"4. Combining the solutions in a coherent way\\n\" \\\n",
    "    \"5. Verifying the combined solution addresses the original problem\\n\" \\\n",
    "    \"6. Validating integration with existing system components\\n\\n\" \\\n",
    "    \"Original Problem: {Problem}\\n\" \\\n",
    "    \"Refined Problem: {RefinedProblem}\\n\" \\\n",
    "    \"Sub-problem Solutions: {SubProblemSolutions}\\n\" \\\n",
    "    \"Context: {Context}\\n\" \\\n",
    "    \"Provide a comprehensive solution that addresses the original problem by synthesizing all sub-solutions.\""
   ]
  },
  {
   "cell_type": "code",
   "execution_count": null,
   "metadata": {},
   "outputs": [],
   "source": [
    "# 1\n",
    "solution_aggregation = \"You are an expert in synthesizing solutions with access to relevant context.\\n\" \\\n",
    "    \"Your task is to aggregate the solutions from all sub-problems by:\\n\" \\\n",
    "    \"1. Reviewing all sub-problem solutions to extract key insights\\n\" \\\n",
    "    \"2. Ensuring consistency and resolving any conflicts across solutions\\n\" \\\n",
    "    \"3. Combining the solutions in a coherent way and concise way\\n\" \\\n",
    "    \"4. Verifying the combined solution effectively addresses the refined problem\\n\\n\" \\\n",
    "    \"5. Refering to relevant context only if necessary for clarity\\n\\n\" \\\n",
    "    \"Refined Problem: {RefinedProblem}\\n\" \\\n",
    "    \"Sub-problem Solutions: {SubProblemSolutions}\\n\" \\\n",
    "    \"Context: {Context}\\n\\n\" \\\n",
    "    \"Provide your solution for the refined problem in the following format:\\n\" \\\n",
    "    \"1. Final Solution (Compact): Provide a direct and concise answer to the refined problem within few or several words.\\n\" \\\n",
    "    \"2. Comprehensive Reasoning: Explain step-by-step how the sub-problem solutions were synthesized, highlighting key insights, resolving conflicts, and how the final solution aligns with the refined problem.\\n\"     \n"
   ]
  },
  {
   "cell_type": "code",
   "execution_count": null,
   "metadata": {},
   "outputs": [],
   "source": [
    "# 2\n",
    "solution_aggregation = \"You are an expert in synthesizing solutions with access to relevant context.\\n\" \\\n",
    "    \"Your task is to aggregate the solutions from all sub-problems by:\\n\" \\\n",
    "    \"1. Reviewing all sub-problem solutions to extract key insights\\n\" \\\n",
    "    \"2. Ensuring consistency and resolving any conflicts across solutions\\n\" \\\n",
    "    \"3. Combining the solutions in a coherent way and concise way\\n\" \\\n",
    "    \"4. Verifying the combined solution effectively addresses the refined problem\\n\\n\" \\\n",
    "    \"5. Refering to relevant context only if necessary for clarity\\n\\n\" \\\n",
    "    \"Refined Problem: {RefinedProblem}\\n\" \\\n",
    "    \"Sub-problem Solutions: {SubProblemSolutions}\\n\" \\\n",
    "    \"Context: {Context}\\n\\n\" \\\n",
    "    \"Provide a comprehensive solution that addresses the original problem by synthesizing all sub-solutions.\"\n"
   ]
  },
  {
   "cell_type": "code",
   "execution_count": null,
   "metadata": {},
   "outputs": [],
   "source": [
    "# 3\n",
    "solution_aggregation = \"You are an expert in synthesizing solutions with access to relevant context.\\n\" \\\n",
    "    \"Your task is to aggregate the solutions from all sub-problems by:\\n\" \\\n",
    "    \"1. Reviewing all sub-problem solutions to extract key insights\\n\" \\\n",
    "    \"2. Ensuring consistency and resolving any conflicts across solutions\\n\" \\\n",
    "    \"3. Combining the solutions in a coherent way and concise way\\n\" \\\n",
    "    \"4. Verifying the combined solution effectively addresses the refined problem\\n\" \\\n",
    "    \"5. Refering to relevant context only if necessary for clarity\\n\\n\" \\\n",
    "    \"Refined Problem: {RefinedProblem}\\n\" \\\n",
    "    \"Sub-problem Solutions: {SubProblemSolutions}\\n\" \\\n",
    "    \"Sub-problem Solutions Reasoning: {SubProblemSolutionsReasoning}\\n\" \\\n",
    "    \"Dependencies: {Dependencies}\\n\" \\\n",
    "    \"Expected Supporting Documents Numbers: {SupportingDocuments}\\n\" \\\n",
    "    \"Context: {Context}\\n\\n\" \\\n",
    "    \"Provide your solution for the refined problem in the following format:\\n\" \\\n",
    "    \"1. Final Solution (Compact): Provide a direct and concise answer to the refined problem within few or several words.\\n\" \\\n",
    "    \"2. Comprehensive Reasoning: Explain step-by-step how the sub-problem solutions were synthesized, highlighting key insights, resolving conflicts, and how the final solution aligns with the refined problem.\\n\"     "
   ]
  },
  {
   "cell_type": "markdown",
   "metadata": {},
   "source": [
    "# evaluation"
   ]
  },
  {
   "cell_type": "code",
   "execution_count": null,
   "metadata": {},
   "outputs": [],
   "source": [
    "# 1\n",
    "hotpot_evaluation = \"\"\"\n",
    "    Your job is to determine if the provided answer is fully correct based on the given question and the correct answer. \n",
    "    Focus only on the factual correctness and completeness of the answer. Respond with YES or NO. \\n\n",
    "    Question: {question} \\n\n",
    "    Correct Answer: {correct_answer} \\n\n",
    "    Answer you should evaluate: {answer} \\n\\n\n",
    "    If you are unsure, provide a brief explanation of why and suggest YES or NO.\n",
    "    \"\"\""
   ]
  }
 ],
 "metadata": {
  "kernelspec": {
   "display_name": "goal-directedness-7eAwMRxE-py3.10",
   "language": "python",
   "name": "python3"
  },
  "language_info": {
   "name": "python",
   "version": "3.10.12"
  }
 },
 "nbformat": 4,
 "nbformat_minor": 2
}
