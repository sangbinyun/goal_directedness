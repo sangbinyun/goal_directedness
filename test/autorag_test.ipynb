{
 "cells": [
  {
   "cell_type": "code",
   "execution_count": null,
   "metadata": {},
   "outputs": [],
   "source": [
    "import json\n",
    "\n",
    "# Load the HotpotQA dataset\n",
    "with open('hotpot_train_v1.1.json', 'r') as f:\n",
    "    hotpot_data = json.load(f)\n",
    "\n",
    "# Function to preprocess the dataset\n",
    "def preprocess_hotpotqa(data):\n",
    "    processed_data = []\n",
    "    for item in data:\n",
    "        question = item['question']\n",
    "        answer = item['answer']\n",
    "        context = ' '.join([' '.join(paragraph) for paragraph in item['context']])\n",
    "        processed_data.append({'question': question, 'answer': answer, 'context': context})\n",
    "    return processed_data\n",
    "\n",
    "# Preprocess the dataset\n",
    "processed_data = preprocess_hotpotqa(hotpot_data)\n",
    "\n",
    "# Save the processed data to a new JSON file\n",
    "with open('processed_hotpotqa.json', 'w') as f:\n",
    "    json.dump(processed_data, f)\n",
    "\n",
    "print(\"Preprocessing complete. Processed data saved to 'processed_hotpotqa.json'.\")"
   ]
  },
  {
   "cell_type": "code",
   "execution_count": null,
   "metadata": {},
   "outputs": [],
   "source": [
    "from dotenv import load_dotenv\n",
    "import os\n",
    "\n",
    "# load .env\n",
    "load_dotenv('/home/sangbin_yun/dev/goal_directedness/')\n",
    "\n",
    "API_KEY = os.environ.get('OPENAI_API_KEY')"
   ]
  },
  {
   "cell_type": "code",
   "execution_count": null,
   "metadata": {},
   "outputs": [],
   "source": [
    "from datasets import load_dataset\n",
    "\n",
    "hf_official_train = load_dataset(\"hotpot_qa\", 'fullwiki', split='train', trust_remote_code=True)\n",
    "hf_official_dev = load_dataset(\"hotpot_qa\", 'fullwiki', split='validation', trust_remote_code=True)"
   ]
  }
 ],
 "metadata": {
  "language_info": {
   "name": "python"
  }
 },
 "nbformat": 4,
 "nbformat_minor": 2
}
